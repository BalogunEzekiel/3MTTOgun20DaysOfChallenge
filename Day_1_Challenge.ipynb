{
  "nbformat": 4,
  "nbformat_minor": 0,
  "metadata": {
    "colab": {
      "provenance": []
    },
    "kernelspec": {
      "name": "python3",
      "display_name": "Python 3"
    },
    "language_info": {
      "name": "python"
    }
  },
  "cells": [
    {
      "cell_type": "code",
      "source": [
        "print(\"Select an operation to perform: \")\n",
        "print(\"1. Add\")\n",
        "print(\"2. Subtract\")\n",
        "print(\"3. Multiply\")\n",
        "print(\"4. Divide\")"
      ],
      "metadata": {
        "colab": {
          "base_uri": "https://localhost:8080/"
        },
        "id": "HUsTPXAuGIg6",
        "outputId": "55059466-8fc4-489d-cd6f-37d826b65acd"
      },
      "execution_count": null,
      "outputs": [
        {
          "output_type": "stream",
          "name": "stdout",
          "text": [
            "Select an operation to perform: \n",
            "1. Add\n",
            "2. Subtract\n",
            "3. Multiply\n",
            "4. Divide\n"
          ]
        }
      ]
    },
    {
      "cell_type": "code",
      "source": [
        "operation = input()\n",
        "if operation == \"1\":\n",
        "  num1 = input(\"Enter first number: \")\n",
        "  num2 = input(\"Enter second number: \")\n",
        "  print(\"The sum is \" + str(int(num1) + int(num2)))\n",
        "elif operation == \"2\":\n",
        "  num1 = input(\"Enter first number: \")\n",
        "  num2 = input(\"Enter second number: \")\n",
        "  print(\"The difference is \" + str(int(num1) - int(num2)))\n",
        "elif operation == \"3\":\n",
        "  num1 = input(\"Enter first number: \")\n",
        "  num2 = input(\"Enter second number: \")\n",
        "  print(\"The product is \" + str(int(num1) * int(num2)))\n",
        "elif operation == \"4\":\n",
        "  num1 = input(\"Enter first number: \")\n",
        "  num2 = input(\"Enter second number: \")\n",
        "  print(\"The result is \" + str(int(num1) / int(num2)))\n",
        "else:\n",
        "  print(\"Invalid input\")"
      ],
      "metadata": {
        "colab": {
          "base_uri": "https://localhost:8080/"
        },
        "id": "B1tlJnifIRpf",
        "outputId": "d356e306-fc2d-442a-cfa3-c695c88a3704"
      },
      "execution_count": null,
      "outputs": [
        {
          "output_type": "stream",
          "name": "stdout",
          "text": [
            "4\n",
            "Enter first number: 70\n",
            "Enter second number: 9\n",
            "The result is 7.777777777777778\n"
          ]
        }
      ]
    }
  ]
}