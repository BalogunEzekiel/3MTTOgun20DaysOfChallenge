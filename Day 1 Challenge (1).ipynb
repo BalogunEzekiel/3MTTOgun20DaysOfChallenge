{
 "cells": [
  {
   "cell_type": "code",
   "execution_count": 3,
   "id": "78489ca6-1eef-4eb6-904e-3314b11ba1bd",
   "metadata": {},
   "outputs": [],
   "source": [
    "# Python Concepts:\n",
    "\n",
    "# variables, data types\n",
    "\n",
    "name = \"Ezekiel\" # String\n",
    "age = 25 # Integer\n",
    "height = 6.1 # Float\n",
    "is_male = True # Boolean"
   ]
  },
  {
   "cell_type": "code",
   "execution_count": 5,
   "id": "61ca64ca-93e7-49a3-8c8a-d43ce2c84fda",
   "metadata": {},
   "outputs": [
    {
     "name": "stdout",
     "output_type": "stream",
     "text": [
      "1\n",
      "2\n",
      "3\n"
     ]
    }
   ],
   "source": [
    "# loops\n",
    "\n",
    "for number in [1, 2, 3]:\n",
    "    print(number)"
   ]
  },
  {
   "cell_type": "code",
   "execution_count": 7,
   "id": "ec00d66e-6d98-439a-bd8c-0436936a3225",
   "metadata": {},
   "outputs": [
    {
     "name": "stdout",
     "output_type": "stream",
     "text": [
      "0\n",
      "1\n",
      "2\n"
     ]
    }
   ],
   "source": [
    "count = 0\n",
    "while count < 3:\n",
    "    print(count)\n",
    "    count += 1"
   ]
  },
  {
   "cell_type": "code",
   "execution_count": 9,
   "id": "dc43ec60-29c9-4016-ba1f-de60e6ac1c58",
   "metadata": {},
   "outputs": [],
   "source": [
    "# functions\n",
    "\n",
    "def function_name(parameters):\n",
    "    # code block\n",
    "    return result"
   ]
  },
  {
   "cell_type": "code",
   "execution_count": 20,
   "id": "55a63dc4-3351-4f0b-9af5-f53d1b0d7631",
   "metadata": {},
   "outputs": [
    {
     "name": "stdout",
     "output_type": "stream",
     "text": [
      "Hello, Ezekiel\n"
     ]
    }
   ],
   "source": [
    "def greet(name):\n",
    "    return f\"Hello, {name}\"\n",
    "\n",
    "print(greet(\"Ezekiel\")) "
   ]
  },
  {
   "cell_type": "code",
   "execution_count": 15,
   "id": "90faf1d1-596a-43a7-b8fd-ce30b9e2da02",
   "metadata": {},
   "outputs": [],
   "source": [
    "# Basic Calculations\n",
    "\n",
    "x = 20\n",
    "y = 4"
   ]
  },
  {
   "cell_type": "code",
   "execution_count": 5,
   "id": "f4c1fca4-bd62-48c8-a473-8d47311564b7",
   "metadata": {},
   "outputs": [
    {
     "data": {
      "text/plain": [
       "24"
      ]
     },
     "execution_count": 5,
     "metadata": {},
     "output_type": "execute_result"
    }
   ],
   "source": [
    "x + y"
   ]
  },
  {
   "cell_type": "code",
   "execution_count": 7,
   "id": "38cb063d-2fe5-4171-ab1f-cf44aebf59d2",
   "metadata": {},
   "outputs": [
    {
     "data": {
      "text/plain": [
       "16"
      ]
     },
     "execution_count": 7,
     "metadata": {},
     "output_type": "execute_result"
    }
   ],
   "source": [
    "x - y"
   ]
  },
  {
   "cell_type": "code",
   "execution_count": 9,
   "id": "f0f721a5-d889-4034-ab99-5f8c135f9e0e",
   "metadata": {},
   "outputs": [
    {
     "data": {
      "text/plain": [
       "80"
      ]
     },
     "execution_count": 9,
     "metadata": {},
     "output_type": "execute_result"
    }
   ],
   "source": [
    "x * y"
   ]
  },
  {
   "cell_type": "code",
   "execution_count": 13,
   "id": "c64c4bf8-b354-4982-b0ce-1b1f6ad348fa",
   "metadata": {},
   "outputs": [
    {
     "data": {
      "text/plain": [
       "5"
      ]
     },
     "execution_count": 13,
     "metadata": {},
     "output_type": "execute_result"
    }
   ],
   "source": [
    "int(x / y)"
   ]
  }
 ],
 "metadata": {
  "kernelspec": {
   "display_name": "Python 3 (ipykernel)",
   "language": "python",
   "name": "python3"
  },
  "language_info": {
   "codemirror_mode": {
    "name": "ipython",
    "version": 3
   },
   "file_extension": ".py",
   "mimetype": "text/x-python",
   "name": "python",
   "nbconvert_exporter": "python",
   "pygments_lexer": "ipython3",
   "version": "3.12.4"
  }
 },
 "nbformat": 4,
 "nbformat_minor": 5
}
